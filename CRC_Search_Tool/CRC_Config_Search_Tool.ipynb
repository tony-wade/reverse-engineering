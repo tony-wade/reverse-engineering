{
  "nbformat": 4,
  "nbformat_minor": 0,
  "metadata": {
    "colab": {
      "provenance": [],
      "authorship_tag": "ABX9TyMC9cGCvCW/xCJtjZfcUIdn",
      "include_colab_link": true
    },
    "kernelspec": {
      "name": "python3",
      "display_name": "Python 3"
    },
    "language_info": {
      "name": "python"
    }
  },
  "cells": [
    {
      "cell_type": "markdown",
      "metadata": {
        "id": "view-in-github",
        "colab_type": "text"
      },
      "source": [
        "<a href=\"https://colab.research.google.com/github/tony-wade/reverse-engineering/blob/main/Custom_CRC8_16_Calculator%26Searching.ipynb\" target=\"_parent\"><img src=\"https://colab.research.google.com/assets/colab-badge.svg\" alt=\"Open In Colab\"/></a>"
      ]
    },
    {
      "cell_type": "markdown",
      "source": [
        "## Intro\n",
        "CRC計算原理為**求指定區塊之多項式餘式**, 在多數塊加密之中也常出現。\n",
        "\n",
        "屬於一種Hash，著重在其偵錯能力與計算效率\n",
        "，因此不必可逆、不強制需要以 irreducible polynomials作為分式\n",
        "\n",
        "(但collision越少越好, 可以是injective function)。\n",
        "\n",
        "\n",
        "\n"
      ],
      "metadata": {
        "id": "iIdTCKkd9ddW"
      }
    },
    {
      "cell_type": "markdown",
      "source": [
        "## CRC8"
      ],
      "metadata": {
        "id": "2idU_kNCOSFf"
      }
    },
    {
      "cell_type": "code",
      "execution_count": null,
      "metadata": {
        "id": "crUf6O7W7S6e"
      },
      "outputs": [],
      "source": [
        "def calculate_crc8(input_string, poly_hex='07', initial_value='00', output_xor='00'):\n",
        "    data = bytes.fromhex(input_string)\n",
        "    poly = int(poly_hex, 16)\n",
        "    crc = int(initial_value, 16)\n",
        "\n",
        "    for byte in data:\n",
        "        crc ^= byte\n",
        "        for _ in range(8):\n",
        "            if crc & 0x80:\n",
        "                crc = ((crc << 1) ^ poly) & 0xFF\n",
        "            else:\n",
        "                crc = (crc << 1) & 0xFF\n",
        "\n",
        "    crc ^= int(output_xor, 16)\n",
        "    return f'{crc:02X}'\n",
        "\n",
        "def find_crc8_configurations(input_string, target_value):\n",
        "    \"\"\"\n",
        "    Find CRC8 configurations for a specific input string and target value.\n",
        "\n",
        "    :param input_string: Fixed input hexadecimal string\n",
        "    :param target_value: Desired CRC8 value\n",
        "    :return: List of matching configurations\n",
        "    \"\"\"\n",
        "    target_value = target_value.upper()\n",
        "    matching_configs = []\n",
        "\n",
        "    # Iterate through possible polynomials (1-255)\n",
        "    for poly in range(1, 256):\n",
        "        poly_hex = f'{poly:02X}'\n",
        "\n",
        "        # Test with standard initial values 00 and FF\n",
        "        for initial_value in ['00', 'FF']:\n",
        "            # Iterate through output XOR values (0-255)\n",
        "            for xor_out in range(256):\n",
        "                xor_hex = f'{xor_out:02X}'\n",
        "\n",
        "                # Calculate CRC for the current configuration\n",
        "                crc = calculate_crc8(input_string, poly_hex, initial_value, xor_hex)\n",
        "\n",
        "                # Check if the calculated CRC matches the target value\n",
        "                if crc == target_value:\n",
        "                    matching_configs.append({\n",
        "                        'poly': poly_hex,\n",
        "                        'initial': initial_value,\n",
        "                        'xor_out': xor_hex,\n",
        "                        'input_value': input_string,\n",
        "                        'crc_value': crc\n",
        "                    })\n",
        "\n",
        "    return matching_configs\n",
        "\n",
        "\n",
        "def find_common_crc8_configurations(inputs_and_targets):\n",
        "    \"\"\"\n",
        "    Find CRC8 configurations that match multiple input-target pairs.\n",
        "\n",
        "    :param inputs_and_targets: List of tuples (input_string, target_value)\n",
        "    :return: List of matching configurations\n",
        "    \"\"\"\n",
        "    matching_configs = []\n",
        "\n",
        "    # Iterate through possible polynomials (1-255)\n",
        "    for poly in range(1, 256):\n",
        "        poly_hex = f'{poly:02X}'\n",
        "\n",
        "        # Iterate through possible initial values\n",
        "        for init_value in range(256):\n",
        "            initial_value = f'{init_value:02X}'\n",
        "            # Iterate through output XOR values (0-255)\n",
        "            for xor_out in range(256):\n",
        "                xor_hex = f'{xor_out:02X}'\n",
        "\n",
        "                # Check if this configuration works for ALL input-target pairs\n",
        "                if all(\n",
        "                    calculate_crc8(input_string, poly_hex, initial_value, xor_hex) == target_value.upper()\n",
        "                    for input_string, target_value in inputs_and_targets\n",
        "                ):\n",
        "                    config = {\n",
        "                        'poly': poly_hex,\n",
        "                        'initial': initial_value,\n",
        "                        'xor_out': xor_hex,\n",
        "                        'results': [\n",
        "                            {\n",
        "                                'input_value': input_string,\n",
        "                                'target_value': target_value,\n",
        "                                'crc_value': calculate_crc8(input_string, poly_hex, initial_value, xor_hex)\n",
        "                            }\n",
        "                            for input_string, target_value in inputs_and_targets\n",
        "                        ]\n",
        "                    }\n",
        "                    matching_configs.append(config)\n",
        "\n",
        "    return matching_configs"
      ]
    },
    {
      "cell_type": "code",
      "source": [
        "if __name__ == '__main__':\n",
        "  input_value = 'EC8251'\n",
        "  result = calculate_crc8(input_value, poly_hex='07', initial_value='00', output_xor='00')\n",
        "  print(result)"
      ],
      "metadata": {
        "colab": {
          "base_uri": "https://localhost:8080/"
        },
        "id": "s8sw66Ly28VY",
        "outputId": "229a5843-e6df-4d56-9a9c-1d2dd883ed28"
      },
      "execution_count": null,
      "outputs": [
        {
          "output_type": "stream",
          "name": "stdout",
          "text": [
            "18\n"
          ]
        }
      ]
    },
    {
      "cell_type": "code",
      "source": [
        "if __name__ == '__main__':\n",
        "    # List of (input,target CRC8 value)\n",
        "    inputs_and_targets = [\n",
        "        ('c0fb4abd09134a3a34', '29'),\n",
        "        ('c0167528267ed07a8f', '07'),\n",
        "        ('c05da40f46f206a36e', 'b7'),\n",
        "    ]\n",
        "\n",
        "    results = find_common_crc8_configurations(inputs_and_targets)\n",
        "\n",
        "    if results:\n",
        "        print(f\"\\nFound {len(results)} common configurations:\")\n",
        "        for config in results:\n",
        "            print(f\"  Polynomial: {config['poly']}\")\n",
        "            print(f\"  Initial Value: {config['initial']}\")\n",
        "            print(f\"  Output XOR Value: {config['xor_out']}\")\n",
        "            print(\" \")\n",
        "    else:\n",
        "        print(\"No common configurations found\")"
      ],
      "metadata": {
        "colab": {
          "base_uri": "https://localhost:8080/"
        },
        "id": "MvQdrBPpflsT",
        "outputId": "fecaf90c-371b-4668-dead-b353d7de44ca"
      },
      "execution_count": null,
      "outputs": [
        {
          "output_type": "stream",
          "name": "stdout",
          "text": [
            "No common configurations found\n"
          ]
        }
      ]
    },
    {
      "cell_type": "markdown",
      "source": [
        "## CRC16"
      ],
      "metadata": {
        "id": "NDDN4rLSOXcv"
      }
    },
    {
      "cell_type": "markdown",
      "source": [
        "改為搜索 CRC16, 若有相同的輸出在特定位置則輸出設定"
      ],
      "metadata": {
        "id": "7L5w5qLaKrEN"
      }
    },
    {
      "cell_type": "code",
      "source": [
        "def calculate_crc16(input_string, poly_hex='8005', initial_value='0000', output_xor='0000', rev_in=True, rev_out=True):\n",
        "    data = bytes.fromhex(input_string) # must in hex format\n",
        "    poly = int(poly_hex, 16)\n",
        "    crc = int(initial_value, 16)\n",
        "\n",
        "    for byte in data:\n",
        "        if rev_in:\n",
        "            byte = int('{:08b}'.format(byte)[::-1], 2)\n",
        "\n",
        "        crc ^= byte << 8\n",
        "        for _ in range(8):\n",
        "            if crc & 0x8000:\n",
        "                crc = ((crc << 1) ^ poly) & 0xFFFF\n",
        "            else:\n",
        "                crc = (crc << 1) & 0xFFFF\n",
        "\n",
        "    if rev_out:\n",
        "        crc = int('{:016b}'.format(crc)[::-1], 2)\n",
        "\n",
        "    crc ^= int(output_xor, 16)\n",
        "    return f'{crc:04X}'\n",
        "\n",
        "\n",
        "def find_common_crc16_configurations(inputs_and_targets, poly_hex=None):\n",
        "    matching_configs = []\n",
        "\n",
        "    # Convert target values to binary masks\n",
        "    masks = [bin(int(target, 16))[2:].zfill(16) for _, target in inputs_and_targets]\n",
        "\n",
        "    # If no poly list provided, use default initial poly\n",
        "    if poly_hex is None:\n",
        "        poly_list = ['8005','C867','3D65','1021','0589','8BB7','A097',]  # Common CRC-16 polynomial\n",
        "\n",
        "    for poly_hex in poly_list:\n",
        "        for initial_value in ['0000', 'FFFF', '00FF', 'FF00']:\n",
        "            for xor_out in ['0000', 'FFFF', '00FF', 'FF00']:\n",
        "                for rev_in in [True, False]:\n",
        "                    for rev_out in [True, False]:\n",
        "                        # Process original inputs\n",
        "                        outputs = [\n",
        "                            bin(int(calculate_crc16(input_string, poly_hex, initial_value, xor_out, rev_in, rev_out), 16))[2:].zfill(16)\n",
        "                            for input_string, _ in inputs_and_targets\n",
        "                        ]\n",
        "\n",
        "                        # Verify if all masks can be aligned with outputs\n",
        "                        all_match = True\n",
        "                        for mask, output in zip(masks, outputs):\n",
        "                            mask_len = len(mask.lstrip('0'))  # Effective mask length\n",
        "                            for i in range(len(output) - mask_len + 1):\n",
        "                                if output[i:i + mask_len] == mask.lstrip('0'):\n",
        "                                    break\n",
        "                            else:  # No match found for this mask\n",
        "                                all_match = False\n",
        "                                break\n",
        "\n",
        "                        if all_match:  # Store configuration if all masks align\n",
        "                            config = {\n",
        "                                'poly': poly_hex,\n",
        "                                'initial': initial_value,\n",
        "                                'xor_out': xor_out,\n",
        "                                'rev_in': rev_in,\n",
        "                                'rev_out': rev_out,\n",
        "                            }\n",
        "                            matching_configs.append(config)\n",
        "\n",
        "    return matching_configs"
      ],
      "metadata": {
        "id": "kuPrYmVC6fPY"
      },
      "execution_count": null,
      "outputs": []
    },
    {
      "cell_type": "code",
      "source": [
        "if __name__ == '__main__':\n",
        "    inputs_and_targets = [\n",
        "        ('c0fb4abd09134a3a34', '29'),\n",
        "        ('c0167528267ed07a8f', '07'),\n",
        "        ('c05da40f46f206a36e', 'b7'),\n",
        "        ('c0a75d38373a969eca', 'ad'),\n",
        "        ('c00b64b68ea22ab7f8', '02'),\n",
        "        ('c0c35d49afb2b66a5e', '25'),\n",
        "        ('c02cd9c8dcade70eeb', 'dd'),\n",
        "        ('c0538a55fb4ed9d42e', '2f'),\n",
        "        ('c099f7e9c65458ed03', 'ad'),\n",
        "\n",
        "    ]\n",
        "\n",
        "    results = find_common_crc16_configurations(inputs_and_targets)\n",
        "\n",
        "    if results:\n",
        "        print(f\"\\nFound {len(results)} common configurations:\")\n",
        "        for config in results:\n",
        "            print(f\"  Polynomial: {config['poly']}\")\n",
        "            print(f\"  Initial Value: {config['initial']}\")\n",
        "            print(f\"  Output XOR Value: {config['xor_out']}\")\n",
        "            print(f\"  Reverse Input/Output: {config['rev_in'], config['rev_out']}\" )\n",
        "            print(\" \")\n",
        "    else:\n",
        "        print(\"No common configurations found\")"
      ],
      "metadata": {
        "colab": {
          "base_uri": "https://localhost:8080/"
        },
        "id": "RDN4kubaPzGi",
        "outputId": "a77b5f73-ea78-49d8-9869-87163bd08dfc"
      },
      "execution_count": null,
      "outputs": [
        {
          "output_type": "stream",
          "name": "stdout",
          "text": [
            "\n",
            "Found 2 common configurations:\n",
            "  Polynomial: 1021\n",
            "  Initial Value: FFFF\n",
            "  Output XOR Value: FFFF\n",
            "  Reverse Input/Output: (True, True)\n",
            " \n",
            "  Polynomial: 1021\n",
            "  Initial Value: FFFF\n",
            "  Output XOR Value: 00FF\n",
            "  Reverse Input/Output: (True, True)\n",
            " \n"
          ]
        }
      ]
    },
    {
      "cell_type": "code",
      "source": [
        "if __name__ == '__main__':\n",
        "  input_string = '471B6D2E'\n",
        "  result = calculate_crc16(input_string,\n",
        "                  poly_hex='1021',\n",
        "                  initial_value='FFFF',\n",
        "                  output_xor='00FF',\n",
        "                  rev_in=True,\n",
        "                  rev_out=True\n",
        "                  )\n",
        "  print(result)\n",
        "\n",
        "  result = calculate_crc16(input_string,\n",
        "                  poly_hex='1021',\n",
        "                  initial_value='FFFF',\n",
        "                  output_xor='FFFF',\n",
        "                  rev_in=True,\n",
        "                  rev_out=True\n",
        "                  )\n",
        "  print(result)"
      ],
      "metadata": {
        "colab": {
          "base_uri": "https://localhost:8080/"
        },
        "id": "cuun388qFEWp",
        "outputId": "2954e5fb-caff-4b42-e056-3b4c8f07a0de"
      },
      "execution_count": null,
      "outputs": [
        {
          "output_type": "stream",
          "name": "stdout",
          "text": [
            "F32A\n",
            "0C2A\n"
          ]
        }
      ]
    }
  ]
}
